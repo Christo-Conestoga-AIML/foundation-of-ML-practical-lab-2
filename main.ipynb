{
 "cells": [
  {
   "metadata": {},
   "cell_type": "markdown",
   "source": [
    "# Multivariate Linear Regression, Non-Parametric Models and Cross-Validation\n",
    "\n",
    "**Author**: Christo Pananjickal Baby\n",
    "\n",
    "**Course**: Applied Artificial Intelligence and Machine Learning\n",
    "\n",
    "**Assignment**: Practical Lab 2\n",
    "\n",
    "**Date**: 18-06-2025\n",
    "\n",
    "Kindly run the code blocks in order or click run all."
   ],
   "id": "630a7d2549f08645"
  }
 ],
 "metadata": {},
 "nbformat": 4,
 "nbformat_minor": 5
}
